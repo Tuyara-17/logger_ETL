{
 "cells": [
  {
   "cell_type": "markdown",
   "id": "868bfde8",
   "metadata": {},
   "source": [
    "# Проект по автоматизации сбора, обработки и загрузки данных с логгеров\n"
   ]
  },
  {
   "cell_type": "markdown",
   "id": "43bc68f6",
   "metadata": {},
   "source": [
    "**Выполнил: Жиркова Туяра, июнь 2023**"
   ]
  },
  {
   "cell_type": "markdown",
   "id": "2f063a44",
   "metadata": {},
   "source": [
    "# Описание проекта\n"
   ]
  },
  {
   "cell_type": "markdown",
   "id": "893deae8",
   "metadata": {},
   "source": [
    " Для решения научных задач и быстрого, точного анализа данных температуры грунтов с логгеров, работающих по беспроводной линии связи LoRaWAN, необходимо организовать автоматизацию сбора, обработки и загрузки данных.\n",
    "\n",
    "**Цель — автоматизация сбора, обработки и загрузки данных с логгеров Института мерзлотоведения им. П. И. Мельникова СО РАН**\n",
    "\n",
    "**Задачи:**\n",
    "\n",
    "- **Загрузка данных из базы данных типа MySQL** \n",
    "- **Просмотр, анализ и предобработка данных**\n",
    "- **Выгрузка данных в табличном виде в xsl файл**\n",
    "- **Запуск ETL по расписанию**\n",
    "\n",
    "**Описание задачи**\n",
    "\n",
    "Данные приходят с двух логгеров на базу данных типа MySQL.\n",
    "\n",
    "Нужно написать ETL для логгера Expreremental_3 c 16 датчиками температуры\n",
    "\n",
    "Первый датчик на поверхности, остальные поочередно на глубине\n",
    "\n",
    "- '0x28,0xff,0xac,0xb3,0x17,0x20,0x8a,0x40'\n",
    "- '0x28,0xff,0x38,0x75,0x17,0x20,0x8a,0xd8'\n",
    "- '0x28,0xff,0x1b,0xa0,0x17,0x20,0x8a,0xee'\n",
    "- '0x28,0xff,0x1f,0x7b,0x17,0x20,0x8a,0x64'\n",
    "- '0x28,0xff,0x05,0xa0,0x17,0x20,0x8a,0x30'\n",
    "- '0x28,0xff,0xd6,0x9f,0x17,0x20,0x8a,0xf2c'\n",
    "- '0x28,0xff,0xeb,0x98,0x17,0x20,0x8a,0x1c'\n",
    "- '0x28,0xff,0x66,0xa8,0x17,0x20,0x8a,0x73'\n",
    "- '0x28,0xff,0xc6,0x9d,0x17,0x20,0x8a,0x89'\n",
    "- '0x28,0xff,0x30,0x75,0x17,0x20,0x8a,0xe6'\n",
    "- '0x28,0xff,0x9d,0xb3,0x17,0x20,0x8a,0x09'\n",
    "- '0x28,0xff,0x11,0xx17,0x20,0x8a,0x04'\n",
    "- '0x28,0xff,0xa8,0x97,0x17,0x20,0x8a,0x21'\n",
    "\n",
    "\n",
    "**Описание базы данных**\n",
    "- База данных logger\n",
    "- логгер Expreremental_3\n",
    "- Таблица json\n",
    "  - Колонка id - уникальный номер \n",
    "  - Колонка time - дата и время\n",
    "  - Колонка string - json строка типа object с данными температуры, названия датчика, имени датчика, заряда батареи на датчике\n",
    "\n",
    "**Чтобы оценить корректность и целостность данных:**\n",
    "\n",
    "- Просмотреть уникальные значения температуры на каждом датчике\n",
    "- Построить график количества данных "
   ]
  },
  {
   "cell_type": "markdown",
   "id": "3ff0148e",
   "metadata": {},
   "source": [
    "# Подготовка данных"
   ]
  },
  {
   "cell_type": "markdown",
   "id": "23c534b1",
   "metadata": {},
   "source": [
    "## Загрузка данных"
   ]
  },
  {
   "cell_type": "code",
   "execution_count": 1,
   "id": "c47bfecc",
   "metadata": {},
   "outputs": [
    {
     "name": "stdout",
     "output_type": "stream",
     "text": [
      "Requirement already satisfied: psycopg2 in c:\\users\\acer\\anaconda3\\lib\\site-packages (2.9.3)\n"
     ]
    }
   ],
   "source": [
    "# установка нужной библиотеки \n",
    "!pip3 install psycopg2"
   ]
  },
  {
   "cell_type": "code",
   "execution_count": 2,
   "id": "c7f49ea7",
   "metadata": {},
   "outputs": [],
   "source": [
    "# импортируем библиотеки\n",
    "import pandas as pd\n",
    "from datetime import datetime\n",
    "import datetime\n",
    "import requests\n",
    "import json\n",
    "from pprint import pprint \n",
    "import re\n",
    "import matplotlib.pyplot as plt\n",
    "import numpy as np\n",
    "import seaborn as sns"
   ]
  },
  {
   "cell_type": "code",
   "execution_count": 3,
   "id": "c0f8d3d0",
   "metadata": {},
   "outputs": [],
   "source": [
    "#считывание и сохранение данных с json файл. Для портфолио выгрузила кусок данных\n",
    "with open('json.json', 'r') as f:\n",
    "    data2 = json.load(f)"
   ]
  },
  {
   "cell_type": "code",
   "execution_count": 4,
   "id": "7a83bb92",
   "metadata": {},
   "outputs": [
    {
     "data": {
      "text/plain": [
       "3"
      ]
     },
     "execution_count": 4,
     "metadata": {},
     "output_type": "execute_result"
    }
   ],
   "source": [
    "len(data2)"
   ]
  },
  {
   "cell_type": "code",
   "execution_count": 5,
   "id": "06ae0d3a",
   "metadata": {},
   "outputs": [],
   "source": [
    "# вырез нужных данных\n",
    "data2=data2[2]"
   ]
  },
  {
   "cell_type": "code",
   "execution_count": 6,
   "id": "ca0c8cae",
   "metadata": {},
   "outputs": [
    {
     "data": {
      "text/plain": [
       "4"
      ]
     },
     "execution_count": 6,
     "metadata": {},
     "output_type": "execute_result"
    }
   ],
   "source": [
    "len(data2)"
   ]
  },
  {
   "cell_type": "code",
   "execution_count": 7,
   "id": "f7ab2aaa",
   "metadata": {},
   "outputs": [],
   "source": [
    "# вырез нужных данных\n",
    "data2=data2['data']"
   ]
  },
  {
   "cell_type": "code",
   "execution_count": 8,
   "id": "50a3b44b",
   "metadata": {},
   "outputs": [
    {
     "data": {
      "text/plain": [
       "20000"
      ]
     },
     "execution_count": 8,
     "metadata": {},
     "output_type": "execute_result"
    }
   ],
   "source": [
    "len(data2)"
   ]
  },
  {
   "cell_type": "code",
   "execution_count": 9,
   "id": "53574754",
   "metadata": {},
   "outputs": [],
   "source": [
    "# вырез последней части данных, для портфолио\n",
    "data2=data2[5000:]"
   ]
  },
  {
   "cell_type": "code",
   "execution_count": 10,
   "id": "f3019b3b",
   "metadata": {},
   "outputs": [
    {
     "data": {
      "text/plain": [
       "15000"
      ]
     },
     "execution_count": 10,
     "metadata": {},
     "output_type": "execute_result"
    }
   ],
   "source": [
    "len(data2)"
   ]
  },
  {
   "cell_type": "code",
   "execution_count": 11,
   "id": "8d3c5f46",
   "metadata": {},
   "outputs": [],
   "source": [
    "# создание таблицы из данных\n",
    "df = pd.DataFrame(data2)"
   ]
  },
  {
   "cell_type": "markdown",
   "id": "d3fe1354",
   "metadata": {},
   "source": [
    "df.info()"
   ]
  },
  {
   "cell_type": "markdown",
   "id": "82b308c4",
   "metadata": {},
   "source": [
    "## Просмотр данных"
   ]
  },
  {
   "cell_type": "code",
   "execution_count": 12,
   "id": "c3d70877",
   "metadata": {},
   "outputs": [
    {
     "data": {
      "text/html": [
       "<div>\n",
       "<style scoped>\n",
       "    .dataframe tbody tr th:only-of-type {\n",
       "        vertical-align: middle;\n",
       "    }\n",
       "\n",
       "    .dataframe tbody tr th {\n",
       "        vertical-align: top;\n",
       "    }\n",
       "\n",
       "    .dataframe thead th {\n",
       "        text-align: right;\n",
       "    }\n",
       "</style>\n",
       "<table border=\"1\" class=\"dataframe\">\n",
       "  <thead>\n",
       "    <tr style=\"text-align: right;\">\n",
       "      <th></th>\n",
       "      <th>id</th>\n",
       "      <th>time</th>\n",
       "      <th>string</th>\n",
       "      <th>logs_id</th>\n",
       "    </tr>\n",
       "  </thead>\n",
       "  <tbody>\n",
       "    <tr>\n",
       "      <th>0</th>\n",
       "      <td>14632</td>\n",
       "      <td>2023-07-02 19:40:44</td>\n",
       "      <td>{\"dr\": 5, \"adr\": true, \"data\": \"Hyj/MHUXIIrmAA...</td>\n",
       "      <td>0</td>\n",
       "    </tr>\n",
       "    <tr>\n",
       "      <th>1</th>\n",
       "      <td>14633</td>\n",
       "      <td>2023-07-02 19:40:52</td>\n",
       "      <td>{\"dr\": 5, \"adr\": true, \"data\": \"Lyg8fsg4GQGfAI...</td>\n",
       "      <td>0</td>\n",
       "    </tr>\n",
       "    <tr>\n",
       "      <th>2</th>\n",
       "      <td>14634</td>\n",
       "      <td>2023-07-02 19:40:54</td>\n",
       "      <td>{\"tags\": {}, \"devEUI\": \"qGEKMjdCdAE=\", \"margin...</td>\n",
       "      <td>0</td>\n",
       "    </tr>\n",
       "    <tr>\n",
       "      <th>3</th>\n",
       "      <td>14635</td>\n",
       "      <td>2023-07-02 19:40:54</td>\n",
       "      <td>{\"dr\": 5, \"adr\": true, \"data\": \"Hyj/qJcXIIohAA...</td>\n",
       "      <td>0</td>\n",
       "    </tr>\n",
       "    <tr>\n",
       "      <th>4</th>\n",
       "      <td>14636</td>\n",
       "      <td>2023-07-02 19:40:58</td>\n",
       "      <td>{\"dr\": 5, \"adr\": true, \"data\": \"Lyi8QLU5GQHNAI...</td>\n",
       "      <td>0</td>\n",
       "    </tr>\n",
       "    <tr>\n",
       "      <th>...</th>\n",
       "      <td>...</td>\n",
       "      <td>...</td>\n",
       "      <td>...</td>\n",
       "      <td>...</td>\n",
       "    </tr>\n",
       "    <tr>\n",
       "      <th>14995</th>\n",
       "      <td>29627</td>\n",
       "      <td>2023-07-14 23:05:01</td>\n",
       "      <td>{\"dr\": 5, \"adr\": true, \"data\": \"Gig8fsg4GQGfAI...</td>\n",
       "      <td>0</td>\n",
       "    </tr>\n",
       "    <tr>\n",
       "      <th>14996</th>\n",
       "      <td>29628</td>\n",
       "      <td>2023-07-14 23:05:11</td>\n",
       "      <td>{\"dr\": 5, \"adr\": true, \"data\": \"Gii8QLU5GQHNAA...</td>\n",
       "      <td>0</td>\n",
       "    </tr>\n",
       "    <tr>\n",
       "      <th>14997</th>\n",
       "      <td>29629</td>\n",
       "      <td>2023-07-14 23:05:22</td>\n",
       "      <td>{\"dr\": 5, \"adr\": true, \"data\": \"Giiq08Q5GQH6AA...</td>\n",
       "      <td>0</td>\n",
       "    </tr>\n",
       "    <tr>\n",
       "      <th>14998</th>\n",
       "      <td>29630</td>\n",
       "      <td>2023-07-14 23:05:32</td>\n",
       "      <td>{\"dr\": 5, \"adr\": true, \"data\": \"GijqebQ5GQGpAA...</td>\n",
       "      <td>0</td>\n",
       "    </tr>\n",
       "    <tr>\n",
       "      <th>14999</th>\n",
       "      <td>29631</td>\n",
       "      <td>2023-07-14 23:05:42</td>\n",
       "      <td>{\"dr\": 5, \"adr\": true, \"data\": \"Gih+4bI5GQFEAI...</td>\n",
       "      <td>0</td>\n",
       "    </tr>\n",
       "  </tbody>\n",
       "</table>\n",
       "<p>15000 rows × 4 columns</p>\n",
       "</div>"
      ],
      "text/plain": [
       "          id                 time  \\\n",
       "0      14632  2023-07-02 19:40:44   \n",
       "1      14633  2023-07-02 19:40:52   \n",
       "2      14634  2023-07-02 19:40:54   \n",
       "3      14635  2023-07-02 19:40:54   \n",
       "4      14636  2023-07-02 19:40:58   \n",
       "...      ...                  ...   \n",
       "14995  29627  2023-07-14 23:05:01   \n",
       "14996  29628  2023-07-14 23:05:11   \n",
       "14997  29629  2023-07-14 23:05:22   \n",
       "14998  29630  2023-07-14 23:05:32   \n",
       "14999  29631  2023-07-14 23:05:42   \n",
       "\n",
       "                                                  string logs_id  \n",
       "0      {\"dr\": 5, \"adr\": true, \"data\": \"Hyj/MHUXIIrmAA...       0  \n",
       "1      {\"dr\": 5, \"adr\": true, \"data\": \"Lyg8fsg4GQGfAI...       0  \n",
       "2      {\"tags\": {}, \"devEUI\": \"qGEKMjdCdAE=\", \"margin...       0  \n",
       "3      {\"dr\": 5, \"adr\": true, \"data\": \"Hyj/qJcXIIohAA...       0  \n",
       "4      {\"dr\": 5, \"adr\": true, \"data\": \"Lyi8QLU5GQHNAI...       0  \n",
       "...                                                  ...     ...  \n",
       "14995  {\"dr\": 5, \"adr\": true, \"data\": \"Gig8fsg4GQGfAI...       0  \n",
       "14996  {\"dr\": 5, \"adr\": true, \"data\": \"Gii8QLU5GQHNAA...       0  \n",
       "14997  {\"dr\": 5, \"adr\": true, \"data\": \"Giiq08Q5GQH6AA...       0  \n",
       "14998  {\"dr\": 5, \"adr\": true, \"data\": \"GijqebQ5GQGpAA...       0  \n",
       "14999  {\"dr\": 5, \"adr\": true, \"data\": \"Gih+4bI5GQFEAI...       0  \n",
       "\n",
       "[15000 rows x 4 columns]"
      ]
     },
     "execution_count": 12,
     "metadata": {},
     "output_type": "execute_result"
    }
   ],
   "source": [
    "df"
   ]
  },
  {
   "cell_type": "markdown",
   "id": "fb1adfd2",
   "metadata": {},
   "source": [
    "**В колонке 'string' в виде json строки все данные о температуре грунтов, заряде батареи, координат местонахождения логгера . Необходимо из каждой строчки колонки string вытащить значения температуы, используя названия датчиков как ключ**"
   ]
  },
  {
   "cell_type": "markdown",
   "id": "d99abcf0",
   "metadata": {},
   "source": [
    "## Предобработка данных"
   ]
  },
  {
   "cell_type": "code",
   "execution_count": 13,
   "id": "ba8593d1",
   "metadata": {},
   "outputs": [],
   "source": [
    "# перевод типа столбца 'id' из строчного в числовой\n",
    "df['id']=pd.to_numeric(df['id'], errors='coerce')"
   ]
  },
  {
   "cell_type": "code",
   "execution_count": 14,
   "id": "dc43b55c",
   "metadata": {},
   "outputs": [],
   "source": [
    "# перевод типа столбца 'time' из строчного в datetime\n",
    "df['time']=pd.to_datetime(df['time'], format='%Y-%m-%d %H:%M:%S')"
   ]
  },
  {
   "cell_type": "code",
   "execution_count": 15,
   "id": "0841a94a",
   "metadata": {},
   "outputs": [
    {
     "name": "stdout",
     "output_type": "stream",
     "text": [
      "<class 'pandas.core.frame.DataFrame'>\n",
      "RangeIndex: 15000 entries, 0 to 14999\n",
      "Data columns (total 4 columns):\n",
      " #   Column   Non-Null Count  Dtype         \n",
      "---  ------   --------------  -----         \n",
      " 0   id       15000 non-null  int64         \n",
      " 1   time     15000 non-null  datetime64[ns]\n",
      " 2   string   15000 non-null  object        \n",
      " 3   logs_id  15000 non-null  object        \n",
      "dtypes: datetime64[ns](1), int64(1), object(2)\n",
      "memory usage: 468.9+ KB\n"
     ]
    }
   ],
   "source": [
    "df.info()"
   ]
  },
  {
   "cell_type": "code",
   "execution_count": 16,
   "id": "f8c23d38",
   "metadata": {},
   "outputs": [],
   "source": [
    "# создание таблицы для логгера \"deviceName\\\": \\\"Expreremental_3\\\"\n",
    "exp3 = pd.DataFrame(columns=['id', 'time'])"
   ]
  },
  {
   "cell_type": "code",
   "execution_count": 17,
   "id": "03028b4a",
   "metadata": {},
   "outputs": [],
   "source": [
    "# скопировать столбцы 'id' и 'time' из таблицы df в таблицу exp3\n",
    "for i in range(len(df)):\n",
    "    exp3.loc[i,'id']=df.loc[i,'id']\n",
    "    exp3.loc[i,'time']=df.loc[i,'time']"
   ]
  },
  {
   "cell_type": "code",
   "execution_count": 18,
   "id": "70a03f08",
   "metadata": {},
   "outputs": [
    {
     "name": "stdout",
     "output_type": "stream",
     "text": [
      "<class 'pandas.core.frame.DataFrame'>\n",
      "Int64Index: 15000 entries, 0 to 14999\n",
      "Data columns (total 2 columns):\n",
      " #   Column  Non-Null Count  Dtype \n",
      "---  ------  --------------  ----- \n",
      " 0   id      15000 non-null  object\n",
      " 1   time    15000 non-null  object\n",
      "dtypes: object(2)\n",
      "memory usage: 867.6+ KB\n"
     ]
    }
   ],
   "source": [
    "exp3.info()"
   ]
  },
  {
   "cell_type": "code",
   "execution_count": 19,
   "id": "48646ab0",
   "metadata": {},
   "outputs": [],
   "source": [
    "# перевод типа столбца 'id' из строчного в числовой\n",
    "exp3['id']=pd.to_numeric(exp3['id'], errors='coerce')"
   ]
  },
  {
   "cell_type": "code",
   "execution_count": 20,
   "id": "10d9fd68",
   "metadata": {},
   "outputs": [],
   "source": [
    "# перевод типа столбца 'time' из строчного в datetime\n",
    "exp3['time']=pd.to_datetime(exp3['time'], format='%Y-%m-%d %H:%M:%S')"
   ]
  },
  {
   "cell_type": "code",
   "execution_count": 21,
   "id": "6cae1dd8",
   "metadata": {},
   "outputs": [],
   "source": [
    "# список установленных датчиков,datchik3 на поверхности, остальное поочередно на глубине\n",
    "datchik3='0x28,0xff,0xac,0xb3,0x17,0x20,0x8a,0x40'\n",
    "datchik2='0x28,0xff,0x38,0x75,0x17,0x20,0x8a,0xd8'\n",
    "datchik14='0x28,0xff,0x1b,0xa0,0x17,0x20,0x8a,0xee'\n",
    "datchik15='0x28,0xff,0x1f,0x7b,0x17,0x20,0x8a,0x64'\n",
    "datchik10='0x28,0xff,0x05,0xa0,0x17,0x20,0x8a,0x30'\n",
    "datchik7='0x28,0xff,0xd6,0x9f,0x17,0x20,0x8a,0xf2'\n",
    "datchik13='0x28,0xff,0xeb,0x98,0x17,0x20,0x8a,0x1c'\n",
    "datchik6='0x28,0xff,0x66,0xa8,0x17,0x20,0x8a,0x73'\n",
    "datchik5='0x28,0xff,0xc6,0x9d,0x17,0x20,0x8a,0x89'\n",
    "datchik0='0x28,0xff,0x30,0x75,0x17,0x20,0x8a,0xe6'\n",
    "datchik11='0x28,0xff,0x9d,0xb3,0x17,0x20,0x8a,0x09'\n",
    "datchik8='0x28,0xff,0x11,0x7b,0x17,0x20,0x8a,0xc6'\n",
    "datchik4='0x28,0xff,0x3a,0xa4,0x17,0x20,0x8a,0xd5'\n",
    "datchik12='0x28,0xff,0xa3,0xbb,0x17,0x20,0x8a,0x33'\n",
    "datchik9='0x28,0xff,0x59,0x75,0x17,0x20,0x8a,0x04'\n",
    "datchik1='0x28,0xff,0xa8,0x97,0x17,0x20,0x8a,0x21'"
   ]
  },
  {
   "cell_type": "code",
   "execution_count": 22,
   "id": "372f0f58",
   "metadata": {},
   "outputs": [],
   "source": [
    "# функция для считывния из строки с данными температуры для каждого датчика\n",
    "def sensor_temperature(datchik):\n",
    "    keyword='Temperature'\n",
    "    for i in range(len(df)):\n",
    "        if datchik in df.loc[i,'string']:\n",
    "            match = re.search(keyword, df.loc[i,'string'])\n",
    "            if match:\n",
    "                sub_string = df.loc[i,'string'][match.end()+3:]\n",
    "                end_index = sub_string.find(\"}\")\n",
    "                exp3.loc[i,datchik]=sub_string[:end_index]\n",
    "    return exp3.loc[i,datchik]"
   ]
  },
  {
   "cell_type": "code",
   "execution_count": 23,
   "id": "38738901",
   "metadata": {},
   "outputs": [
    {
     "data": {
      "text/plain": [
       "nan"
      ]
     },
     "execution_count": 23,
     "metadata": {},
     "output_type": "execute_result"
    }
   ],
   "source": [
    "#вызов функции для всех датчиков\n",
    "sensor_temperature(datchik3)\n",
    "sensor_temperature(datchik2)\n",
    "sensor_temperature(datchik14)\n",
    "sensor_temperature(datchik15)\n",
    "sensor_temperature(datchik10)\n",
    "sensor_temperature(datchik7)\n",
    "sensor_temperature(datchik13)\n",
    "sensor_temperature(datchik6)\n",
    "sensor_temperature(datchik5)\n",
    "sensor_temperature(datchik0)\n",
    "sensor_temperature(datchik11)\n",
    "sensor_temperature(datchik8)\n",
    "sensor_temperature(datchik4)\n",
    "sensor_temperature(datchik12)\n",
    "sensor_temperature(datchik9)\n",
    "sensor_temperature(datchik1)"
   ]
  },
  {
   "cell_type": "code",
   "execution_count": 24,
   "id": "c45ddf24",
   "metadata": {},
   "outputs": [
    {
     "data": {
      "text/html": [
       "<div>\n",
       "<style scoped>\n",
       "    .dataframe tbody tr th:only-of-type {\n",
       "        vertical-align: middle;\n",
       "    }\n",
       "\n",
       "    .dataframe tbody tr th {\n",
       "        vertical-align: top;\n",
       "    }\n",
       "\n",
       "    .dataframe thead th {\n",
       "        text-align: right;\n",
       "    }\n",
       "</style>\n",
       "<table border=\"1\" class=\"dataframe\">\n",
       "  <thead>\n",
       "    <tr style=\"text-align: right;\">\n",
       "      <th></th>\n",
       "      <th>id</th>\n",
       "      <th>time</th>\n",
       "      <th>0x28,0xff,0xac,0xb3,0x17,0x20,0x8a,0x40</th>\n",
       "      <th>0x28,0xff,0x38,0x75,0x17,0x20,0x8a,0xd8</th>\n",
       "      <th>0x28,0xff,0x1b,0xa0,0x17,0x20,0x8a,0xee</th>\n",
       "      <th>0x28,0xff,0x1f,0x7b,0x17,0x20,0x8a,0x64</th>\n",
       "      <th>0x28,0xff,0x05,0xa0,0x17,0x20,0x8a,0x30</th>\n",
       "      <th>0x28,0xff,0xd6,0x9f,0x17,0x20,0x8a,0xf2</th>\n",
       "      <th>0x28,0xff,0xeb,0x98,0x17,0x20,0x8a,0x1c</th>\n",
       "      <th>0x28,0xff,0x66,0xa8,0x17,0x20,0x8a,0x73</th>\n",
       "      <th>0x28,0xff,0xc6,0x9d,0x17,0x20,0x8a,0x89</th>\n",
       "      <th>0x28,0xff,0x30,0x75,0x17,0x20,0x8a,0xe6</th>\n",
       "      <th>0x28,0xff,0x9d,0xb3,0x17,0x20,0x8a,0x09</th>\n",
       "      <th>0x28,0xff,0x11,0x7b,0x17,0x20,0x8a,0xc6</th>\n",
       "      <th>0x28,0xff,0x3a,0xa4,0x17,0x20,0x8a,0xd5</th>\n",
       "      <th>0x28,0xff,0xa3,0xbb,0x17,0x20,0x8a,0x33</th>\n",
       "      <th>0x28,0xff,0x59,0x75,0x17,0x20,0x8a,0x04</th>\n",
       "      <th>0x28,0xff,0xa8,0x97,0x17,0x20,0x8a,0x21</th>\n",
       "    </tr>\n",
       "  </thead>\n",
       "  <tbody>\n",
       "    <tr>\n",
       "      <th>0</th>\n",
       "      <td>14632</td>\n",
       "      <td>2023-07-02 19:40:44</td>\n",
       "      <td>NaN</td>\n",
       "      <td>NaN</td>\n",
       "      <td>NaN</td>\n",
       "      <td>NaN</td>\n",
       "      <td>NaN</td>\n",
       "      <td>NaN</td>\n",
       "      <td>NaN</td>\n",
       "      <td>NaN</td>\n",
       "      <td>NaN</td>\n",
       "      <td>-2.6875</td>\n",
       "      <td>NaN</td>\n",
       "      <td>NaN</td>\n",
       "      <td>NaN</td>\n",
       "      <td>NaN</td>\n",
       "      <td>NaN</td>\n",
       "      <td>NaN</td>\n",
       "    </tr>\n",
       "    <tr>\n",
       "      <th>1</th>\n",
       "      <td>14633</td>\n",
       "      <td>2023-07-02 19:40:52</td>\n",
       "      <td>NaN</td>\n",
       "      <td>NaN</td>\n",
       "      <td>NaN</td>\n",
       "      <td>NaN</td>\n",
       "      <td>NaN</td>\n",
       "      <td>NaN</td>\n",
       "      <td>NaN</td>\n",
       "      <td>NaN</td>\n",
       "      <td>NaN</td>\n",
       "      <td>NaN</td>\n",
       "      <td>NaN</td>\n",
       "      <td>NaN</td>\n",
       "      <td>NaN</td>\n",
       "      <td>NaN</td>\n",
       "      <td>NaN</td>\n",
       "      <td>NaN</td>\n",
       "    </tr>\n",
       "    <tr>\n",
       "      <th>2</th>\n",
       "      <td>14634</td>\n",
       "      <td>2023-07-02 19:40:54</td>\n",
       "      <td>NaN</td>\n",
       "      <td>NaN</td>\n",
       "      <td>NaN</td>\n",
       "      <td>NaN</td>\n",
       "      <td>NaN</td>\n",
       "      <td>NaN</td>\n",
       "      <td>NaN</td>\n",
       "      <td>NaN</td>\n",
       "      <td>NaN</td>\n",
       "      <td>NaN</td>\n",
       "      <td>NaN</td>\n",
       "      <td>NaN</td>\n",
       "      <td>NaN</td>\n",
       "      <td>NaN</td>\n",
       "      <td>NaN</td>\n",
       "      <td>NaN</td>\n",
       "    </tr>\n",
       "    <tr>\n",
       "      <th>3</th>\n",
       "      <td>14635</td>\n",
       "      <td>2023-07-02 19:40:54</td>\n",
       "      <td>NaN</td>\n",
       "      <td>NaN</td>\n",
       "      <td>NaN</td>\n",
       "      <td>NaN</td>\n",
       "      <td>NaN</td>\n",
       "      <td>NaN</td>\n",
       "      <td>NaN</td>\n",
       "      <td>NaN</td>\n",
       "      <td>NaN</td>\n",
       "      <td>NaN</td>\n",
       "      <td>NaN</td>\n",
       "      <td>NaN</td>\n",
       "      <td>NaN</td>\n",
       "      <td>NaN</td>\n",
       "      <td>NaN</td>\n",
       "      <td>-2.3125</td>\n",
       "    </tr>\n",
       "    <tr>\n",
       "      <th>4</th>\n",
       "      <td>14636</td>\n",
       "      <td>2023-07-02 19:40:58</td>\n",
       "      <td>NaN</td>\n",
       "      <td>NaN</td>\n",
       "      <td>NaN</td>\n",
       "      <td>NaN</td>\n",
       "      <td>NaN</td>\n",
       "      <td>NaN</td>\n",
       "      <td>NaN</td>\n",
       "      <td>NaN</td>\n",
       "      <td>NaN</td>\n",
       "      <td>NaN</td>\n",
       "      <td>NaN</td>\n",
       "      <td>NaN</td>\n",
       "      <td>NaN</td>\n",
       "      <td>NaN</td>\n",
       "      <td>NaN</td>\n",
       "      <td>NaN</td>\n",
       "    </tr>\n",
       "    <tr>\n",
       "      <th>...</th>\n",
       "      <td>...</td>\n",
       "      <td>...</td>\n",
       "      <td>...</td>\n",
       "      <td>...</td>\n",
       "      <td>...</td>\n",
       "      <td>...</td>\n",
       "      <td>...</td>\n",
       "      <td>...</td>\n",
       "      <td>...</td>\n",
       "      <td>...</td>\n",
       "      <td>...</td>\n",
       "      <td>...</td>\n",
       "      <td>...</td>\n",
       "      <td>...</td>\n",
       "      <td>...</td>\n",
       "      <td>...</td>\n",
       "      <td>...</td>\n",
       "      <td>...</td>\n",
       "    </tr>\n",
       "    <tr>\n",
       "      <th>14995</th>\n",
       "      <td>29627</td>\n",
       "      <td>2023-07-14 23:05:01</td>\n",
       "      <td>NaN</td>\n",
       "      <td>NaN</td>\n",
       "      <td>NaN</td>\n",
       "      <td>NaN</td>\n",
       "      <td>NaN</td>\n",
       "      <td>NaN</td>\n",
       "      <td>NaN</td>\n",
       "      <td>NaN</td>\n",
       "      <td>NaN</td>\n",
       "      <td>NaN</td>\n",
       "      <td>NaN</td>\n",
       "      <td>NaN</td>\n",
       "      <td>NaN</td>\n",
       "      <td>NaN</td>\n",
       "      <td>NaN</td>\n",
       "      <td>NaN</td>\n",
       "    </tr>\n",
       "    <tr>\n",
       "      <th>14996</th>\n",
       "      <td>29628</td>\n",
       "      <td>2023-07-14 23:05:11</td>\n",
       "      <td>NaN</td>\n",
       "      <td>NaN</td>\n",
       "      <td>NaN</td>\n",
       "      <td>NaN</td>\n",
       "      <td>NaN</td>\n",
       "      <td>NaN</td>\n",
       "      <td>NaN</td>\n",
       "      <td>NaN</td>\n",
       "      <td>NaN</td>\n",
       "      <td>NaN</td>\n",
       "      <td>NaN</td>\n",
       "      <td>NaN</td>\n",
       "      <td>NaN</td>\n",
       "      <td>NaN</td>\n",
       "      <td>NaN</td>\n",
       "      <td>NaN</td>\n",
       "    </tr>\n",
       "    <tr>\n",
       "      <th>14997</th>\n",
       "      <td>29629</td>\n",
       "      <td>2023-07-14 23:05:22</td>\n",
       "      <td>NaN</td>\n",
       "      <td>NaN</td>\n",
       "      <td>NaN</td>\n",
       "      <td>NaN</td>\n",
       "      <td>NaN</td>\n",
       "      <td>NaN</td>\n",
       "      <td>NaN</td>\n",
       "      <td>NaN</td>\n",
       "      <td>NaN</td>\n",
       "      <td>NaN</td>\n",
       "      <td>NaN</td>\n",
       "      <td>NaN</td>\n",
       "      <td>NaN</td>\n",
       "      <td>NaN</td>\n",
       "      <td>NaN</td>\n",
       "      <td>NaN</td>\n",
       "    </tr>\n",
       "    <tr>\n",
       "      <th>14998</th>\n",
       "      <td>29630</td>\n",
       "      <td>2023-07-14 23:05:32</td>\n",
       "      <td>NaN</td>\n",
       "      <td>NaN</td>\n",
       "      <td>NaN</td>\n",
       "      <td>NaN</td>\n",
       "      <td>NaN</td>\n",
       "      <td>NaN</td>\n",
       "      <td>NaN</td>\n",
       "      <td>NaN</td>\n",
       "      <td>NaN</td>\n",
       "      <td>NaN</td>\n",
       "      <td>NaN</td>\n",
       "      <td>NaN</td>\n",
       "      <td>NaN</td>\n",
       "      <td>NaN</td>\n",
       "      <td>NaN</td>\n",
       "      <td>NaN</td>\n",
       "    </tr>\n",
       "    <tr>\n",
       "      <th>14999</th>\n",
       "      <td>29631</td>\n",
       "      <td>2023-07-14 23:05:42</td>\n",
       "      <td>NaN</td>\n",
       "      <td>NaN</td>\n",
       "      <td>NaN</td>\n",
       "      <td>NaN</td>\n",
       "      <td>NaN</td>\n",
       "      <td>NaN</td>\n",
       "      <td>NaN</td>\n",
       "      <td>NaN</td>\n",
       "      <td>NaN</td>\n",
       "      <td>NaN</td>\n",
       "      <td>NaN</td>\n",
       "      <td>NaN</td>\n",
       "      <td>NaN</td>\n",
       "      <td>NaN</td>\n",
       "      <td>NaN</td>\n",
       "      <td>NaN</td>\n",
       "    </tr>\n",
       "  </tbody>\n",
       "</table>\n",
       "<p>15000 rows × 18 columns</p>\n",
       "</div>"
      ],
      "text/plain": [
       "          id                time 0x28,0xff,0xac,0xb3,0x17,0x20,0x8a,0x40  \\\n",
       "0      14632 2023-07-02 19:40:44                                     NaN   \n",
       "1      14633 2023-07-02 19:40:52                                     NaN   \n",
       "2      14634 2023-07-02 19:40:54                                     NaN   \n",
       "3      14635 2023-07-02 19:40:54                                     NaN   \n",
       "4      14636 2023-07-02 19:40:58                                     NaN   \n",
       "...      ...                 ...                                     ...   \n",
       "14995  29627 2023-07-14 23:05:01                                     NaN   \n",
       "14996  29628 2023-07-14 23:05:11                                     NaN   \n",
       "14997  29629 2023-07-14 23:05:22                                     NaN   \n",
       "14998  29630 2023-07-14 23:05:32                                     NaN   \n",
       "14999  29631 2023-07-14 23:05:42                                     NaN   \n",
       "\n",
       "      0x28,0xff,0x38,0x75,0x17,0x20,0x8a,0xd8  \\\n",
       "0                                         NaN   \n",
       "1                                         NaN   \n",
       "2                                         NaN   \n",
       "3                                         NaN   \n",
       "4                                         NaN   \n",
       "...                                       ...   \n",
       "14995                                     NaN   \n",
       "14996                                     NaN   \n",
       "14997                                     NaN   \n",
       "14998                                     NaN   \n",
       "14999                                     NaN   \n",
       "\n",
       "      0x28,0xff,0x1b,0xa0,0x17,0x20,0x8a,0xee  \\\n",
       "0                                         NaN   \n",
       "1                                         NaN   \n",
       "2                                         NaN   \n",
       "3                                         NaN   \n",
       "4                                         NaN   \n",
       "...                                       ...   \n",
       "14995                                     NaN   \n",
       "14996                                     NaN   \n",
       "14997                                     NaN   \n",
       "14998                                     NaN   \n",
       "14999                                     NaN   \n",
       "\n",
       "      0x28,0xff,0x1f,0x7b,0x17,0x20,0x8a,0x64  \\\n",
       "0                                         NaN   \n",
       "1                                         NaN   \n",
       "2                                         NaN   \n",
       "3                                         NaN   \n",
       "4                                         NaN   \n",
       "...                                       ...   \n",
       "14995                                     NaN   \n",
       "14996                                     NaN   \n",
       "14997                                     NaN   \n",
       "14998                                     NaN   \n",
       "14999                                     NaN   \n",
       "\n",
       "      0x28,0xff,0x05,0xa0,0x17,0x20,0x8a,0x30  \\\n",
       "0                                         NaN   \n",
       "1                                         NaN   \n",
       "2                                         NaN   \n",
       "3                                         NaN   \n",
       "4                                         NaN   \n",
       "...                                       ...   \n",
       "14995                                     NaN   \n",
       "14996                                     NaN   \n",
       "14997                                     NaN   \n",
       "14998                                     NaN   \n",
       "14999                                     NaN   \n",
       "\n",
       "      0x28,0xff,0xd6,0x9f,0x17,0x20,0x8a,0xf2  \\\n",
       "0                                         NaN   \n",
       "1                                         NaN   \n",
       "2                                         NaN   \n",
       "3                                         NaN   \n",
       "4                                         NaN   \n",
       "...                                       ...   \n",
       "14995                                     NaN   \n",
       "14996                                     NaN   \n",
       "14997                                     NaN   \n",
       "14998                                     NaN   \n",
       "14999                                     NaN   \n",
       "\n",
       "      0x28,0xff,0xeb,0x98,0x17,0x20,0x8a,0x1c  \\\n",
       "0                                         NaN   \n",
       "1                                         NaN   \n",
       "2                                         NaN   \n",
       "3                                         NaN   \n",
       "4                                         NaN   \n",
       "...                                       ...   \n",
       "14995                                     NaN   \n",
       "14996                                     NaN   \n",
       "14997                                     NaN   \n",
       "14998                                     NaN   \n",
       "14999                                     NaN   \n",
       "\n",
       "      0x28,0xff,0x66,0xa8,0x17,0x20,0x8a,0x73  \\\n",
       "0                                         NaN   \n",
       "1                                         NaN   \n",
       "2                                         NaN   \n",
       "3                                         NaN   \n",
       "4                                         NaN   \n",
       "...                                       ...   \n",
       "14995                                     NaN   \n",
       "14996                                     NaN   \n",
       "14997                                     NaN   \n",
       "14998                                     NaN   \n",
       "14999                                     NaN   \n",
       "\n",
       "      0x28,0xff,0xc6,0x9d,0x17,0x20,0x8a,0x89  \\\n",
       "0                                         NaN   \n",
       "1                                         NaN   \n",
       "2                                         NaN   \n",
       "3                                         NaN   \n",
       "4                                         NaN   \n",
       "...                                       ...   \n",
       "14995                                     NaN   \n",
       "14996                                     NaN   \n",
       "14997                                     NaN   \n",
       "14998                                     NaN   \n",
       "14999                                     NaN   \n",
       "\n",
       "      0x28,0xff,0x30,0x75,0x17,0x20,0x8a,0xe6  \\\n",
       "0                                     -2.6875   \n",
       "1                                         NaN   \n",
       "2                                         NaN   \n",
       "3                                         NaN   \n",
       "4                                         NaN   \n",
       "...                                       ...   \n",
       "14995                                     NaN   \n",
       "14996                                     NaN   \n",
       "14997                                     NaN   \n",
       "14998                                     NaN   \n",
       "14999                                     NaN   \n",
       "\n",
       "      0x28,0xff,0x9d,0xb3,0x17,0x20,0x8a,0x09  \\\n",
       "0                                         NaN   \n",
       "1                                         NaN   \n",
       "2                                         NaN   \n",
       "3                                         NaN   \n",
       "4                                         NaN   \n",
       "...                                       ...   \n",
       "14995                                     NaN   \n",
       "14996                                     NaN   \n",
       "14997                                     NaN   \n",
       "14998                                     NaN   \n",
       "14999                                     NaN   \n",
       "\n",
       "      0x28,0xff,0x11,0x7b,0x17,0x20,0x8a,0xc6  \\\n",
       "0                                         NaN   \n",
       "1                                         NaN   \n",
       "2                                         NaN   \n",
       "3                                         NaN   \n",
       "4                                         NaN   \n",
       "...                                       ...   \n",
       "14995                                     NaN   \n",
       "14996                                     NaN   \n",
       "14997                                     NaN   \n",
       "14998                                     NaN   \n",
       "14999                                     NaN   \n",
       "\n",
       "      0x28,0xff,0x3a,0xa4,0x17,0x20,0x8a,0xd5  \\\n",
       "0                                         NaN   \n",
       "1                                         NaN   \n",
       "2                                         NaN   \n",
       "3                                         NaN   \n",
       "4                                         NaN   \n",
       "...                                       ...   \n",
       "14995                                     NaN   \n",
       "14996                                     NaN   \n",
       "14997                                     NaN   \n",
       "14998                                     NaN   \n",
       "14999                                     NaN   \n",
       "\n",
       "      0x28,0xff,0xa3,0xbb,0x17,0x20,0x8a,0x33  \\\n",
       "0                                         NaN   \n",
       "1                                         NaN   \n",
       "2                                         NaN   \n",
       "3                                         NaN   \n",
       "4                                         NaN   \n",
       "...                                       ...   \n",
       "14995                                     NaN   \n",
       "14996                                     NaN   \n",
       "14997                                     NaN   \n",
       "14998                                     NaN   \n",
       "14999                                     NaN   \n",
       "\n",
       "      0x28,0xff,0x59,0x75,0x17,0x20,0x8a,0x04  \\\n",
       "0                                         NaN   \n",
       "1                                         NaN   \n",
       "2                                         NaN   \n",
       "3                                         NaN   \n",
       "4                                         NaN   \n",
       "...                                       ...   \n",
       "14995                                     NaN   \n",
       "14996                                     NaN   \n",
       "14997                                     NaN   \n",
       "14998                                     NaN   \n",
       "14999                                     NaN   \n",
       "\n",
       "      0x28,0xff,0xa8,0x97,0x17,0x20,0x8a,0x21  \n",
       "0                                         NaN  \n",
       "1                                         NaN  \n",
       "2                                         NaN  \n",
       "3                                     -2.3125  \n",
       "4                                         NaN  \n",
       "...                                       ...  \n",
       "14995                                     NaN  \n",
       "14996                                     NaN  \n",
       "14997                                     NaN  \n",
       "14998                                     NaN  \n",
       "14999                                     NaN  \n",
       "\n",
       "[15000 rows x 18 columns]"
      ]
     },
     "execution_count": 24,
     "metadata": {},
     "output_type": "execute_result"
    }
   ],
   "source": [
    "exp3"
   ]
  },
  {
   "cell_type": "code",
   "execution_count": 25,
   "id": "36bf6ba8",
   "metadata": {},
   "outputs": [
    {
     "name": "stdout",
     "output_type": "stream",
     "text": [
      "<class 'pandas.core.frame.DataFrame'>\n",
      "Int64Index: 15000 entries, 0 to 14999\n",
      "Data columns (total 18 columns):\n",
      " #   Column                                   Non-Null Count  Dtype         \n",
      "---  ------                                   --------------  -----         \n",
      " 0   id                                       15000 non-null  int64         \n",
      " 1   time                                     15000 non-null  datetime64[ns]\n",
      " 2   0x28,0xff,0xac,0xb3,0x17,0x20,0x8a,0x40  216 non-null    object        \n",
      " 3   0x28,0xff,0x38,0x75,0x17,0x20,0x8a,0xd8  216 non-null    object        \n",
      " 4   0x28,0xff,0x1b,0xa0,0x17,0x20,0x8a,0xee  210 non-null    object        \n",
      " 5   0x28,0xff,0x1f,0x7b,0x17,0x20,0x8a,0x64  210 non-null    object        \n",
      " 6   0x28,0xff,0x05,0xa0,0x17,0x20,0x8a,0x30  213 non-null    object        \n",
      " 7   0x28,0xff,0xd6,0x9f,0x17,0x20,0x8a,0xf2  215 non-null    object        \n",
      " 8   0x28,0xff,0xeb,0x98,0x17,0x20,0x8a,0x1c  210 non-null    object        \n",
      " 9   0x28,0xff,0x66,0xa8,0x17,0x20,0x8a,0x73  215 non-null    object        \n",
      " 10  0x28,0xff,0xc6,0x9d,0x17,0x20,0x8a,0x89  216 non-null    object        \n",
      " 11  0x28,0xff,0x30,0x75,0x17,0x20,0x8a,0xe6  216 non-null    object        \n",
      " 12  0x28,0xff,0x9d,0xb3,0x17,0x20,0x8a,0x09  211 non-null    object        \n",
      " 13  0x28,0xff,0x11,0x7b,0x17,0x20,0x8a,0xc6  214 non-null    object        \n",
      " 14  0x28,0xff,0x3a,0xa4,0x17,0x20,0x8a,0xd5  216 non-null    object        \n",
      " 15  0x28,0xff,0xa3,0xbb,0x17,0x20,0x8a,0x33  211 non-null    object        \n",
      " 16  0x28,0xff,0x59,0x75,0x17,0x20,0x8a,0x04  213 non-null    object        \n",
      " 17  0x28,0xff,0xa8,0x97,0x17,0x20,0x8a,0x21  216 non-null    object        \n",
      "dtypes: datetime64[ns](1), int64(1), object(16)\n",
      "memory usage: 2.7+ MB\n"
     ]
    }
   ],
   "source": [
    "exp3.info()"
   ]
  },
  {
   "cell_type": "code",
   "execution_count": 26,
   "id": "2f350a10",
   "metadata": {},
   "outputs": [],
   "source": [
    "# запись в таблицу exp3 имени логгера\n",
    "device_name='Expreremental_3'\n",
    "for i in range(len(df)):\n",
    "    if device_name in df.loc[i,'string']:\n",
    "        exp3.loc[i,'device_name']='Expreremental_3'"
   ]
  },
  {
   "cell_type": "code",
   "execution_count": 27,
   "id": "94c9233f",
   "metadata": {},
   "outputs": [
    {
     "name": "stdout",
     "output_type": "stream",
     "text": [
      "<class 'pandas.core.frame.DataFrame'>\n",
      "Int64Index: 15000 entries, 0 to 14999\n",
      "Data columns (total 19 columns):\n",
      " #   Column                                   Non-Null Count  Dtype         \n",
      "---  ------                                   --------------  -----         \n",
      " 0   id                                       15000 non-null  int64         \n",
      " 1   time                                     15000 non-null  datetime64[ns]\n",
      " 2   0x28,0xff,0xac,0xb3,0x17,0x20,0x8a,0x40  216 non-null    object        \n",
      " 3   0x28,0xff,0x38,0x75,0x17,0x20,0x8a,0xd8  216 non-null    object        \n",
      " 4   0x28,0xff,0x1b,0xa0,0x17,0x20,0x8a,0xee  210 non-null    object        \n",
      " 5   0x28,0xff,0x1f,0x7b,0x17,0x20,0x8a,0x64  210 non-null    object        \n",
      " 6   0x28,0xff,0x05,0xa0,0x17,0x20,0x8a,0x30  213 non-null    object        \n",
      " 7   0x28,0xff,0xd6,0x9f,0x17,0x20,0x8a,0xf2  215 non-null    object        \n",
      " 8   0x28,0xff,0xeb,0x98,0x17,0x20,0x8a,0x1c  210 non-null    object        \n",
      " 9   0x28,0xff,0x66,0xa8,0x17,0x20,0x8a,0x73  215 non-null    object        \n",
      " 10  0x28,0xff,0xc6,0x9d,0x17,0x20,0x8a,0x89  216 non-null    object        \n",
      " 11  0x28,0xff,0x30,0x75,0x17,0x20,0x8a,0xe6  216 non-null    object        \n",
      " 12  0x28,0xff,0x9d,0xb3,0x17,0x20,0x8a,0x09  211 non-null    object        \n",
      " 13  0x28,0xff,0x11,0x7b,0x17,0x20,0x8a,0xc6  214 non-null    object        \n",
      " 14  0x28,0xff,0x3a,0xa4,0x17,0x20,0x8a,0xd5  216 non-null    object        \n",
      " 15  0x28,0xff,0xa3,0xbb,0x17,0x20,0x8a,0x33  211 non-null    object        \n",
      " 16  0x28,0xff,0x59,0x75,0x17,0x20,0x8a,0x04  213 non-null    object        \n",
      " 17  0x28,0xff,0xa8,0x97,0x17,0x20,0x8a,0x21  216 non-null    object        \n",
      " 18  device_name                              3675 non-null   object        \n",
      "dtypes: datetime64[ns](1), int64(1), object(17)\n",
      "memory usage: 2.8+ MB\n"
     ]
    }
   ],
   "source": [
    "exp3.info()"
   ]
  },
  {
   "cell_type": "code",
   "execution_count": 28,
   "id": "8309c367",
   "metadata": {},
   "outputs": [],
   "source": [
    "#exp3 = exp3.dropna(subset=['device_name']) "
   ]
  },
  {
   "cell_type": "code",
   "execution_count": 29,
   "id": "6fe91464",
   "metadata": {},
   "outputs": [
    {
     "name": "stdout",
     "output_type": "stream",
     "text": [
      "<class 'pandas.core.frame.DataFrame'>\n",
      "Int64Index: 15000 entries, 0 to 14999\n",
      "Data columns (total 19 columns):\n",
      " #   Column                                   Non-Null Count  Dtype         \n",
      "---  ------                                   --------------  -----         \n",
      " 0   id                                       15000 non-null  int64         \n",
      " 1   time                                     15000 non-null  datetime64[ns]\n",
      " 2   0x28,0xff,0xac,0xb3,0x17,0x20,0x8a,0x40  216 non-null    object        \n",
      " 3   0x28,0xff,0x38,0x75,0x17,0x20,0x8a,0xd8  216 non-null    object        \n",
      " 4   0x28,0xff,0x1b,0xa0,0x17,0x20,0x8a,0xee  210 non-null    object        \n",
      " 5   0x28,0xff,0x1f,0x7b,0x17,0x20,0x8a,0x64  210 non-null    object        \n",
      " 6   0x28,0xff,0x05,0xa0,0x17,0x20,0x8a,0x30  213 non-null    object        \n",
      " 7   0x28,0xff,0xd6,0x9f,0x17,0x20,0x8a,0xf2  215 non-null    object        \n",
      " 8   0x28,0xff,0xeb,0x98,0x17,0x20,0x8a,0x1c  210 non-null    object        \n",
      " 9   0x28,0xff,0x66,0xa8,0x17,0x20,0x8a,0x73  215 non-null    object        \n",
      " 10  0x28,0xff,0xc6,0x9d,0x17,0x20,0x8a,0x89  216 non-null    object        \n",
      " 11  0x28,0xff,0x30,0x75,0x17,0x20,0x8a,0xe6  216 non-null    object        \n",
      " 12  0x28,0xff,0x9d,0xb3,0x17,0x20,0x8a,0x09  211 non-null    object        \n",
      " 13  0x28,0xff,0x11,0x7b,0x17,0x20,0x8a,0xc6  214 non-null    object        \n",
      " 14  0x28,0xff,0x3a,0xa4,0x17,0x20,0x8a,0xd5  216 non-null    object        \n",
      " 15  0x28,0xff,0xa3,0xbb,0x17,0x20,0x8a,0x33  211 non-null    object        \n",
      " 16  0x28,0xff,0x59,0x75,0x17,0x20,0x8a,0x04  213 non-null    object        \n",
      " 17  0x28,0xff,0xa8,0x97,0x17,0x20,0x8a,0x21  216 non-null    object        \n",
      " 18  device_name                              3675 non-null   object        \n",
      "dtypes: datetime64[ns](1), int64(1), object(17)\n",
      "memory usage: 2.8+ MB\n"
     ]
    }
   ],
   "source": [
    "exp3.info()"
   ]
  },
  {
   "cell_type": "code",
   "execution_count": 30,
   "id": "a388f82b",
   "metadata": {},
   "outputs": [],
   "source": [
    "exp3.columns = ['id', 'time','0','1','2','3','4','5','6','7','8','9','10','11','12','13','14','15','Название логгера']"
   ]
  },
  {
   "cell_type": "code",
   "execution_count": 31,
   "id": "187f0b83",
   "metadata": {},
   "outputs": [
    {
     "data": {
      "text/html": [
       "<div>\n",
       "<style scoped>\n",
       "    .dataframe tbody tr th:only-of-type {\n",
       "        vertical-align: middle;\n",
       "    }\n",
       "\n",
       "    .dataframe tbody tr th {\n",
       "        vertical-align: top;\n",
       "    }\n",
       "\n",
       "    .dataframe thead th {\n",
       "        text-align: right;\n",
       "    }\n",
       "</style>\n",
       "<table border=\"1\" class=\"dataframe\">\n",
       "  <thead>\n",
       "    <tr style=\"text-align: right;\">\n",
       "      <th></th>\n",
       "      <th>id</th>\n",
       "      <th>time</th>\n",
       "      <th>0</th>\n",
       "      <th>1</th>\n",
       "      <th>2</th>\n",
       "      <th>3</th>\n",
       "      <th>4</th>\n",
       "      <th>5</th>\n",
       "      <th>6</th>\n",
       "      <th>7</th>\n",
       "      <th>8</th>\n",
       "      <th>9</th>\n",
       "      <th>10</th>\n",
       "      <th>11</th>\n",
       "      <th>12</th>\n",
       "      <th>13</th>\n",
       "      <th>14</th>\n",
       "      <th>15</th>\n",
       "      <th>Название логгера</th>\n",
       "    </tr>\n",
       "  </thead>\n",
       "  <tbody>\n",
       "    <tr>\n",
       "      <th>0</th>\n",
       "      <td>14632</td>\n",
       "      <td>2023-07-02 19:40:44</td>\n",
       "      <td>NaN</td>\n",
       "      <td>NaN</td>\n",
       "      <td>NaN</td>\n",
       "      <td>NaN</td>\n",
       "      <td>NaN</td>\n",
       "      <td>NaN</td>\n",
       "      <td>NaN</td>\n",
       "      <td>NaN</td>\n",
       "      <td>NaN</td>\n",
       "      <td>-2.6875</td>\n",
       "      <td>NaN</td>\n",
       "      <td>NaN</td>\n",
       "      <td>NaN</td>\n",
       "      <td>NaN</td>\n",
       "      <td>NaN</td>\n",
       "      <td>NaN</td>\n",
       "      <td>Expreremental_3</td>\n",
       "    </tr>\n",
       "    <tr>\n",
       "      <th>1</th>\n",
       "      <td>14633</td>\n",
       "      <td>2023-07-02 19:40:52</td>\n",
       "      <td>NaN</td>\n",
       "      <td>NaN</td>\n",
       "      <td>NaN</td>\n",
       "      <td>NaN</td>\n",
       "      <td>NaN</td>\n",
       "      <td>NaN</td>\n",
       "      <td>NaN</td>\n",
       "      <td>NaN</td>\n",
       "      <td>NaN</td>\n",
       "      <td>NaN</td>\n",
       "      <td>NaN</td>\n",
       "      <td>NaN</td>\n",
       "      <td>NaN</td>\n",
       "      <td>NaN</td>\n",
       "      <td>NaN</td>\n",
       "      <td>NaN</td>\n",
       "      <td>NaN</td>\n",
       "    </tr>\n",
       "    <tr>\n",
       "      <th>2</th>\n",
       "      <td>14634</td>\n",
       "      <td>2023-07-02 19:40:54</td>\n",
       "      <td>NaN</td>\n",
       "      <td>NaN</td>\n",
       "      <td>NaN</td>\n",
       "      <td>NaN</td>\n",
       "      <td>NaN</td>\n",
       "      <td>NaN</td>\n",
       "      <td>NaN</td>\n",
       "      <td>NaN</td>\n",
       "      <td>NaN</td>\n",
       "      <td>NaN</td>\n",
       "      <td>NaN</td>\n",
       "      <td>NaN</td>\n",
       "      <td>NaN</td>\n",
       "      <td>NaN</td>\n",
       "      <td>NaN</td>\n",
       "      <td>NaN</td>\n",
       "      <td>Expreremental_3</td>\n",
       "    </tr>\n",
       "    <tr>\n",
       "      <th>3</th>\n",
       "      <td>14635</td>\n",
       "      <td>2023-07-02 19:40:54</td>\n",
       "      <td>NaN</td>\n",
       "      <td>NaN</td>\n",
       "      <td>NaN</td>\n",
       "      <td>NaN</td>\n",
       "      <td>NaN</td>\n",
       "      <td>NaN</td>\n",
       "      <td>NaN</td>\n",
       "      <td>NaN</td>\n",
       "      <td>NaN</td>\n",
       "      <td>NaN</td>\n",
       "      <td>NaN</td>\n",
       "      <td>NaN</td>\n",
       "      <td>NaN</td>\n",
       "      <td>NaN</td>\n",
       "      <td>NaN</td>\n",
       "      <td>-2.3125</td>\n",
       "      <td>Expreremental_3</td>\n",
       "    </tr>\n",
       "    <tr>\n",
       "      <th>4</th>\n",
       "      <td>14636</td>\n",
       "      <td>2023-07-02 19:40:58</td>\n",
       "      <td>NaN</td>\n",
       "      <td>NaN</td>\n",
       "      <td>NaN</td>\n",
       "      <td>NaN</td>\n",
       "      <td>NaN</td>\n",
       "      <td>NaN</td>\n",
       "      <td>NaN</td>\n",
       "      <td>NaN</td>\n",
       "      <td>NaN</td>\n",
       "      <td>NaN</td>\n",
       "      <td>NaN</td>\n",
       "      <td>NaN</td>\n",
       "      <td>NaN</td>\n",
       "      <td>NaN</td>\n",
       "      <td>NaN</td>\n",
       "      <td>NaN</td>\n",
       "      <td>NaN</td>\n",
       "    </tr>\n",
       "  </tbody>\n",
       "</table>\n",
       "</div>"
      ],
      "text/plain": [
       "      id                time    0    1    2    3    4    5    6    7    8  \\\n",
       "0  14632 2023-07-02 19:40:44  NaN  NaN  NaN  NaN  NaN  NaN  NaN  NaN  NaN   \n",
       "1  14633 2023-07-02 19:40:52  NaN  NaN  NaN  NaN  NaN  NaN  NaN  NaN  NaN   \n",
       "2  14634 2023-07-02 19:40:54  NaN  NaN  NaN  NaN  NaN  NaN  NaN  NaN  NaN   \n",
       "3  14635 2023-07-02 19:40:54  NaN  NaN  NaN  NaN  NaN  NaN  NaN  NaN  NaN   \n",
       "4  14636 2023-07-02 19:40:58  NaN  NaN  NaN  NaN  NaN  NaN  NaN  NaN  NaN   \n",
       "\n",
       "         9   10   11   12   13   14       15 Название логгера  \n",
       "0  -2.6875  NaN  NaN  NaN  NaN  NaN      NaN  Expreremental_3  \n",
       "1      NaN  NaN  NaN  NaN  NaN  NaN      NaN              NaN  \n",
       "2      NaN  NaN  NaN  NaN  NaN  NaN      NaN  Expreremental_3  \n",
       "3      NaN  NaN  NaN  NaN  NaN  NaN  -2.3125  Expreremental_3  \n",
       "4      NaN  NaN  NaN  NaN  NaN  NaN      NaN              NaN  "
      ]
     },
     "execution_count": 31,
     "metadata": {},
     "output_type": "execute_result"
    }
   ],
   "source": [
    "exp3.head(5)"
   ]
  },
  {
   "cell_type": "code",
   "execution_count": 50,
   "id": "9058bf19",
   "metadata": {},
   "outputs": [],
   "source": [
    "# перевод значений температуры в числовой тип из строчного\n",
    "for column in ['0','1','2','3','4','5','6','7','8','9','10','11','12','13','14','15']:\n",
    "    exp3[column]=pd.to_numeric(exp3[column], errors='coerce' )\n"
   ]
  },
  {
   "cell_type": "code",
   "execution_count": 51,
   "id": "4949746b",
   "metadata": {},
   "outputs": [
    {
     "name": "stdout",
     "output_type": "stream",
     "text": [
      "<class 'pandas.core.frame.DataFrame'>\n",
      "RangeIndex: 3418 entries, 0 to 3417\n",
      "Data columns (total 19 columns):\n",
      " #   Column            Non-Null Count  Dtype         \n",
      "---  ------            --------------  -----         \n",
      " 0   id                3418 non-null   int64         \n",
      " 1   time              3418 non-null   datetime64[ns]\n",
      " 2   0                 216 non-null    float64       \n",
      " 3   1                 216 non-null    float64       \n",
      " 4   2                 210 non-null    float64       \n",
      " 5   3                 210 non-null    float64       \n",
      " 6   4                 213 non-null    float64       \n",
      " 7   5                 215 non-null    float64       \n",
      " 8   6                 210 non-null    float64       \n",
      " 9   7                 215 non-null    float64       \n",
      " 10  8                 216 non-null    float64       \n",
      " 11  9                 216 non-null    float64       \n",
      " 12  10                211 non-null    float64       \n",
      " 13  11                214 non-null    float64       \n",
      " 14  12                216 non-null    float64       \n",
      " 15  13                211 non-null    float64       \n",
      " 16  14                213 non-null    float64       \n",
      " 17  15                216 non-null    float64       \n",
      " 18  Название логгера  3418 non-null   object        \n",
      "dtypes: datetime64[ns](1), float64(16), int64(1), object(1)\n",
      "memory usage: 507.5+ KB\n"
     ]
    }
   ],
   "source": [
    "exp3.info()"
   ]
  },
  {
   "cell_type": "code",
   "execution_count": 34,
   "id": "127f360e",
   "metadata": {},
   "outputs": [],
   "source": [
    "#удаление строк без значений темпетаруты \n",
    "exp3=exp3.dropna (thresh= 4)"
   ]
  },
  {
   "cell_type": "code",
   "execution_count": 35,
   "id": "a2ec9a21",
   "metadata": {},
   "outputs": [],
   "source": [
    "# новое индексирование строк бз пропусков\n",
    "exp3 = exp3.drop_duplicates().reset_index(drop=True)"
   ]
  },
  {
   "cell_type": "markdown",
   "id": "4e0f0d8a",
   "metadata": {},
   "source": [
    "## Анализ полученных данных"
   ]
  },
  {
   "cell_type": "code",
   "execution_count": 36,
   "id": "895841c4",
   "metadata": {},
   "outputs": [
    {
     "data": {
      "text/plain": [
       "Timestamp('2023-07-02 19:40:44')"
      ]
     },
     "execution_count": 36,
     "metadata": {},
     "output_type": "execute_result"
    }
   ],
   "source": [
    "# начало передачи данных\n",
    "exp3['time'].min()"
   ]
  },
  {
   "cell_type": "code",
   "execution_count": 37,
   "id": "935f0487",
   "metadata": {},
   "outputs": [
    {
     "data": {
      "text/plain": [
       "Timestamp('2023-07-14 22:37:38')"
      ]
     },
     "execution_count": 37,
     "metadata": {},
     "output_type": "execute_result"
    }
   ],
   "source": [
    "# конец передачи данных\n",
    "exp3['time'].max()"
   ]
  },
  {
   "cell_type": "code",
   "execution_count": 38,
   "id": "c57aced2",
   "metadata": {},
   "outputs": [
    {
     "data": {
      "text/plain": [
       "Timedelta('12 days 02:56:54')"
      ]
     },
     "execution_count": 38,
     "metadata": {},
     "output_type": "execute_result"
    }
   ],
   "source": [
    "# продолжительность передачи данных\n",
    "exp3['time'].max()-exp3['time'].min()"
   ]
  },
  {
   "cell_type": "code",
   "execution_count": 39,
   "id": "6a0b77ea",
   "metadata": {},
   "outputs": [
    {
     "data": {
      "text/plain": [
       "array([    nan, 28.4375, 27.375 , 26.25  , 25.1875, 24.3125, 23.9375,\n",
       "       23.5   , 23.0625, 22.9375, 23.3125, 24.125 , 26.    , 26.125 ,\n",
       "       27.6875, 29.625 , 31.0625, 31.875 , 32.25  , 32.375 , 32.5625,\n",
       "       31.3125, 30.0625, 29.0625, 28.0625, 26.875 , 25.6875, 24.5625,\n",
       "       23.5625, 22.75  , 22.    , 21.4375, 22.5625, 22.875 , 25.5   ,\n",
       "       25.8125, 27.5625, 29.3125, 29.9375, 30.9375, 30.4375, 29.5625,\n",
       "       28.5625, 27.1875, 24.25  , 22.3125, 21.625 , 20.9375, 20.5   ,\n",
       "       20.125 , 20.8125, 21.5625, 22.1875, 26.5625, 28.    , 27.8125,\n",
       "       28.6875, 24.8125, 23.6875, 22.4375, 21.25  , 20.1875, 19.5   ,\n",
       "       19.    , 18.5   , 19.25  , 19.375 , 21.5   , 23.    , 25.375 ,\n",
       "       26.3125, 26.8125, 26.5   , 26.375 , 27.75  , 28.125 , 19.75  ,\n",
       "       18.75  , 17.75  , 17.0625, 16.5   , 16.9375, 17.625 , 19.3125,\n",
       "       22.0625, 24.0625, 19.4375, 22.125 , 27.875 , 28.25  , 24.    ,\n",
       "       22.5   , 21.1875, 19.875 , 18.8125, 17.8125, 17.    , 21.125 ,\n",
       "       23.375 , 32.6875, 33.    , 32.125 , 31.    , 29.6875, 28.625 ,\n",
       "       27.125 , 25.625 , 23.1875, 20.0625, 20.    , 19.9375, 20.375 ,\n",
       "       20.75  , 23.875 , 27.5   , 24.875 , 25.25  , 24.4375, 21.3125,\n",
       "       19.6875, 19.1875, 18.6875, 18.4375, 18.625 , 21.0625, 21.6875,\n",
       "       21.9375, 18.25  , 17.375 , 16.875 , 15.9375, 14.75  , 13.75  ,\n",
       "       12.8125, 12.    , 11.3125, 11.375 , 12.0625, 14.4375, 15.875 ,\n",
       "       18.375 , 20.6875, 20.25  , 19.625 , 17.5   , 16.4375, 15.375 ])"
      ]
     },
     "execution_count": 39,
     "metadata": {},
     "output_type": "execute_result"
    }
   ],
   "source": [
    "# просмотр уникальных данных температуры для датчика 0, на поверхности земли\n",
    "exp3['0'].unique()"
   ]
  },
  {
   "cell_type": "markdown",
   "id": "375e4aeb",
   "metadata": {},
   "source": [
    "Температуры соответсвуют июльской погоде"
   ]
  },
  {
   "cell_type": "code",
   "execution_count": 40,
   "id": "fe262685",
   "metadata": {},
   "outputs": [
    {
     "data": {
      "text/plain": [
       "array([nan, '13', '13.0625', '13.125', '13.1875', '13.25', '13.3125',\n",
       "       '13.375', '13.4375', '13.5', '12.9375', '12.875', '12.8125',\n",
       "       '12.75', '12.6875', '12.625', '12.5625', '12.5', '12.4375',\n",
       "       '12.375', '12.3125', '10.875', '10.8125', '10.75', '10.6875',\n",
       "       '10.625', '10.5625', '10.5', '10.4375', '10.375', '10.3125',\n",
       "       '10.25'], dtype=object)"
      ]
     },
     "execution_count": 40,
     "metadata": {},
     "output_type": "execute_result"
    }
   ],
   "source": [
    "# просмотр уникальных данных температуры для датчика 1\n",
    "exp3['1'].unique()"
   ]
  },
  {
   "cell_type": "code",
   "execution_count": 41,
   "id": "0910f6d6",
   "metadata": {},
   "outputs": [
    {
     "data": {
      "text/plain": [
       "array([nan, '3.875', '3.9375', '4', '4.0625', '4.125', '4.1875', '4.25',\n",
       "       '4.3125', '4.375', '4.4375', '4.5', '4.5625', '4.625', '4.75',\n",
       "       '4.6875'], dtype=object)"
      ]
     },
     "execution_count": 41,
     "metadata": {},
     "output_type": "execute_result"
    }
   ],
   "source": [
    "# просмотр уникальных данных температуры для датчика 2\n",
    "exp3['2'].unique()"
   ]
  },
  {
   "cell_type": "code",
   "execution_count": 42,
   "id": "ddcaf44a",
   "metadata": {},
   "outputs": [
    {
     "data": {
      "text/plain": [
       "array([nan, '-0.5', '-0.4375', '-0.375', '-0.3125', '0.125', '0.1875',\n",
       "       '0.25', '0.3125', '0.375', '0.4375', '0.5', '0.5625', '0.625',\n",
       "       '0.6875', '0.75', '0.8125', '0.875', '0.9375'], dtype=object)"
      ]
     },
     "execution_count": 42,
     "metadata": {},
     "output_type": "execute_result"
    }
   ],
   "source": [
    "# просмотр уникальных данных температуры для датчика 3\n",
    "exp3['3'].unique()"
   ]
  },
  {
   "cell_type": "code",
   "execution_count": 43,
   "id": "64ce726d",
   "metadata": {},
   "outputs": [
    {
     "data": {
      "text/plain": [
       "array([nan, '-1.5625', '-1.5', '-1.4375', '-1.375', '-1.3125', '-1.25',\n",
       "       '-1.1875'], dtype=object)"
      ]
     },
     "execution_count": 43,
     "metadata": {},
     "output_type": "execute_result"
    }
   ],
   "source": [
    "# просмотр уникальных данных температуры для датчика 4\n",
    "exp3['4'].unique()"
   ]
  },
  {
   "cell_type": "code",
   "execution_count": 44,
   "id": "430005ab",
   "metadata": {},
   "outputs": [
    {
     "data": {
      "text/plain": [
       "array([nan, '-2', '-1.9375', '-1.875', '-1.8125'], dtype=object)"
      ]
     },
     "execution_count": 44,
     "metadata": {},
     "output_type": "execute_result"
    }
   ],
   "source": [
    "# просмотр уникальных данных температуры для датчика 5\n",
    "exp3['5'].unique()"
   ]
  },
  {
   "cell_type": "markdown",
   "id": "ded619b6",
   "metadata": {},
   "source": [
    "Температуры грунтов на глубине постепенно снижаются, что соответствует действительности"
   ]
  },
  {
   "cell_type": "code",
   "execution_count": 66,
   "id": "94dbe804",
   "metadata": {},
   "outputs": [
    {
     "data": {
      "image/png": "[encoded data removed]",
      "text/plain": [
       "<Figure size 720x576 with 1 Axes>"
      ]
     },
     "metadata": {
      "needs_background": "light"
     },
     "output_type": "display_data"
    }
   ],
   "source": [
    "fig = plt.figure(figsize=(10, 8))\n",
    "exp3['time'].hist(bins=50)\n",
    "# поворачиваем подписи оси x на 45 градусов\n",
    "plt.xticks(rotation=45);"
   ]
  },
  {
   "cell_type": "markdown",
   "id": "239202c3",
   "metadata": {},
   "source": [
    "C 8 по 10 июля есть перерыв передачи данных"
   ]
  },
  {
   "cell_type": "code",
   "execution_count": 67,
   "id": "59504044",
   "metadata": {},
   "outputs": [],
   "source": [
    "# выгрузка в xslx файл\n",
    "exp3.to_excel('./exp3_logger.xlsx')"
   ]
  },
  {
   "cell_type": "markdown",
   "id": "dc999ed5",
   "metadata": {},
   "source": [
    "# Вывод"
   ]
  },
  {
   "cell_type": "markdown",
   "id": "a70d179f",
   "metadata": {},
   "source": [
    "Цель по автоматизации ETL данных логгера успешно выполнена. Данные загружаются в Excel файл exp3_logger.xlsx в табличном виде. \n",
    "\n",
    "Данные температуры корректны. Есть перерыв в передаче данных с 8 по 10 июля"
   ]
  }
 ],
 "metadata": {
  "kernelspec": {
   "display_name": "Python 3 (ipykernel)",
   "language": "python",
   "name": "python3"
  },
  "language_info": {
   "codemirror_mode": {
    "name": "ipython",
    "version": 3
   },
   "file_extension": ".py",
   "mimetype": "text/x-python",
   "name": "python",
   "nbconvert_exporter": "python",
   "pygments_lexer": "ipython3",
   "version": "3.9.7"
  },
  "toc": {
   "base_numbering": 1,
   "nav_menu": {},
   "number_sections": true,
   "sideBar": true,
   "skip_h1_title": false,
   "title_cell": "Table of Contents",
   "title_sidebar": "Contents",
   "toc_cell": false,
   "toc_position": {},
   "toc_section_display": true,
   "toc_window_display": true
  },
  "varInspector": {
   "cols": {
    "lenName": 16,
    "lenType": 16,
    "lenVar": 40
   },
   "kernels_config": {
    "python": {
     "delete_cmd_postfix": "",
     "delete_cmd_prefix": "del ",
     "library": "var_list.py",
     "varRefreshCmd": "print(var_dic_list())"
    },
    "r": {
     "delete_cmd_postfix": ") ",
     "delete_cmd_prefix": "rm(",
     "library": "var_list.r",
     "varRefreshCmd": "cat(var_dic_list()) "
    }
   },
   "types_to_exclude": [
    "module",
    "function",
    "builtin_function_or_method",
    "instance",
    "_Feature"
   ],
   "window_display": false
  }
 },
 "nbformat": 4,
 "nbformat_minor": 5
}
